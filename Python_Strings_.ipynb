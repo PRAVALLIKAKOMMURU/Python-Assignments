{
  "cells": [
    {
      "cell_type": "markdown",
      "id": "db689fc2",
      "metadata": {
        "id": "db689fc2"
      },
      "source": [
        "### Question 1: Write a Python program to count the number of characters in a string without using len function.\n",
        "\n",
        "- `sample input : `\n",
        "    - `var = 'python java'`\n",
        "- `sample output :`\n",
        "    - `result : 11`"
      ]
    },
    {
      "cell_type": "code",
      "execution_count": 1,
      "id": "c9ce9180",
      "metadata": {
        "id": "c9ce9180",
        "outputId": "8a38e4b3-547e-4fa1-aa7b-7025e6976547",
        "colab": {
          "base_uri": "https://localhost:8080/"
        }
      },
      "outputs": [
        {
          "output_type": "stream",
          "name": "stdout",
          "text": [
            "11\n"
          ]
        }
      ],
      "source": [
        "# Please write The solution Here for above question 1:\n",
        "a='python java'\n",
        "r=0\n",
        "for i in a:\n",
        "  r=r+1\n",
        "print(r)\n",
        "\n"
      ]
    },
    {
      "cell_type": "markdown",
      "id": "46f069cc",
      "metadata": {
        "id": "46f069cc"
      },
      "source": [
        "### Question 2: Write a Python program to reverse a string without using [::-1]\n",
        "\n",
        "- `sample input : `\n",
        "    - `var = 'python'`\n",
        "- `sample output :`\n",
        "    - `result : nohtyp`"
      ]
    },
    {
      "cell_type": "code",
      "execution_count": 2,
      "id": "2cde3dcc",
      "metadata": {
        "id": "2cde3dcc",
        "outputId": "d0bb0443-6bb3-4651-95ff-79fe0655fedc",
        "colab": {
          "base_uri": "https://localhost:8080/"
        }
      },
      "outputs": [
        {
          "output_type": "stream",
          "name": "stdout",
          "text": [
            "nohtyp \n"
          ]
        }
      ],
      "source": [
        "# Please write The solution Here for above question 2:\n",
        "a='python'\n",
        "t=' '\n",
        "for i in a:\n",
        "  t=i+t\n",
        "print(t)\n",
        "\n",
        "\n"
      ]
    },
    {
      "cell_type": "markdown",
      "id": "0f3a2ef5",
      "metadata": {
        "id": "0f3a2ef5"
      },
      "source": [
        "### Question 3: Write a Python program to check if a string is a palindrome don't use [::-1].\n",
        "\n",
        "- `sample input : `\n",
        "    - `var = 'NUN'`\n",
        "- `sample output :`\n",
        "    - `result : It is a Palindrome`\n",
        "    \n",
        "- `palindrome concept = https://www.dictionary.com/e/palindromic-word/#:~:text=A%20palindrome%20is%20a%20word,roots%20in%20the%20early%201600s.`"
      ]
    },
    {
      "cell_type": "code",
      "execution_count": 44,
      "id": "74b9f01a",
      "metadata": {
        "id": "74b9f01a",
        "outputId": "59186c29-d24c-4284-dc0f-62252c5120d9",
        "colab": {
          "base_uri": "https://localhost:8080/"
        }
      },
      "outputs": [
        {
          "output_type": "stream",
          "name": "stdout",
          "text": [
            "It is a Palindrome\n"
          ]
        }
      ],
      "source": [
        "# Please write The solution Here for above question 3:\n",
        "\n",
        "\n",
        "var = 'NUN'\n",
        "a=''\n",
        "for i in var:\n",
        "  a=i+a\n",
        "  if a==var:\n",
        "    print('It is a Palindrome')\n",
        "\n"
      ]
    },
    {
      "cell_type": "markdown",
      "id": "98e0fc60",
      "metadata": {
        "id": "98e0fc60"
      },
      "source": [
        "### Question 4: Write a Python program to find the most common character in a string.\n",
        "\n",
        "- `sample input : `\n",
        "    - `var = 'Hello world '`\n",
        "- `sample output :`\n",
        "    - `result : l, because l is repeating 3 times `"
      ]
    },
    {
      "cell_type": "code",
      "execution_count": 46,
      "id": "d9aa4ca6",
      "metadata": {
        "id": "d9aa4ca6"
      },
      "outputs": [],
      "source": [
        "# Please write The solution Here for above question 4:\n",
        "\n",
        "PASS\n"
      ]
    },
    {
      "cell_type": "markdown",
      "id": "17eb44eb",
      "metadata": {
        "id": "17eb44eb"
      },
      "source": [
        "### Question 5: Write a Python program to check if two strings are anagrams.\n",
        "\n",
        "- `sample input : `\n",
        "    - `var1 = 'listen'`\n",
        "    - `var2 = 'silent'`\n",
        "- `sample output :`\n",
        "    - `result : both are anagram because characters in var2 is in var1`"
      ]
    },
    {
      "cell_type": "code",
      "execution_count": 55,
      "id": "29f0e87e",
      "metadata": {
        "id": "29f0e87e",
        "outputId": "5a049cbd-cb5e-4d27-d328-b08896d1d66d",
        "colab": {
          "base_uri": "https://localhost:8080/"
        }
      },
      "outputs": [
        {
          "output_type": "stream",
          "name": "stdout",
          "text": [
            "both are anagram because characters in var2 is in var1\n"
          ]
        }
      ],
      "source": [
        "# Please write The solution Here for above question 5:\n",
        "var1 = 'listen'\n",
        "var2 = 'silent'\n",
        "a=list(var1)\n",
        "b=list(var2)\n",
        "#print(a)\n",
        "#print(b)\n",
        "a.sort()\n",
        "b.sort()\n",
        "#print(a)\n",
        "#print(b)\n",
        "if c==d:\n",
        "  print('both are anagram because characters in var2 is in var1')\n",
        "\n",
        "\n",
        "\n",
        "\n",
        "\n"
      ]
    },
    {
      "cell_type": "markdown",
      "id": "fac17884",
      "metadata": {
        "id": "fac17884"
      },
      "source": [
        "### Question 6: Write a Python program to remove all the vowels from a string.\n",
        "\n",
        "- `sample input : `\n",
        "    - `var = 'python'`\n",
        "- `sample output :`\n",
        "    - `result : pythn , because vowels are [AEIOUaeiou]`"
      ]
    },
    {
      "cell_type": "code",
      "execution_count": 56,
      "id": "f4b33095",
      "metadata": {
        "id": "f4b33095"
      },
      "outputs": [],
      "source": [
        "# Please write The solution Here for above question 6:\n",
        "\n",
        "\n",
        "\n",
        "\n"
      ]
    },
    {
      "cell_type": "markdown",
      "id": "2170d6f4",
      "metadata": {
        "id": "2170d6f4"
      },
      "source": [
        "### Question 7: Write a Python program to find the longest word in a string.\n",
        "\n",
        "- `sample input : `\n",
        "    - `var = 'python is Easy Language'`\n",
        "- `sample output :`\n",
        "    - `result : Language`"
      ]
    },
    {
      "cell_type": "code",
      "execution_count": 60,
      "id": "f35de8b3",
      "metadata": {
        "id": "f35de8b3"
      },
      "outputs": [],
      "source": [
        "PASS\n",
        "\n"
      ]
    },
    {
      "cell_type": "markdown",
      "id": "f349bdb7",
      "metadata": {
        "id": "f349bdb7"
      },
      "source": [
        "### Question 8: Write a Python program to capitalize the first letter of each word in a string [dont use built-in-function title].\n",
        "\n",
        "- `sample input : `\n",
        "    - `var = 'python is easy'`\n",
        "- `sample output :`\n",
        "    - `result : Python Is Easy`"
      ]
    },
    {
      "cell_type": "code",
      "execution_count": 60,
      "id": "a1b4c4e6",
      "metadata": {
        "id": "a1b4c4e6",
        "outputId": "54279677-1ae7-4cf2-97cf-b9b783ca58f2",
        "colab": {
          "base_uri": "https://localhost:8080/"
        }
      },
      "outputs": [
        {
          "output_type": "stream",
          "name": "stdout",
          "text": [
            "Python Is Easy\n"
          ]
        }
      ],
      "source": [
        "# Please write The solution Here for above question 8:\n",
        "\n",
        "s= 'python is easy'\n",
        "lst=[word[0].upper()+word[1:] for word in s.split()]\n",
        "s= \" \".join(lst)\n",
        "print(s)\n"
      ]
    },
    {
      "cell_type": "markdown",
      "id": "d2770696",
      "metadata": {
        "id": "d2770696"
      },
      "source": [
        "### Question 9: Write a Python program to find the frequency of each character in a string.\n",
        "\n",
        "- `sample input : `\n",
        "    - `var = 'sharuk khan'`\n",
        "- `sample output :`\n",
        "    - `result : {'s': 1, 'h': 2, 'a': 2, 'r': 1, 'u': 1, 'k': 2, ' ': 1, 'n': 1}`"
      ]
    },
    {
      "cell_type": "code",
      "execution_count": 5,
      "id": "7fdc2e9c",
      "metadata": {
        "id": "7fdc2e9c",
        "outputId": "1219c48b-39e6-4776-d974-7d7dcddbd46a",
        "colab": {
          "base_uri": "https://localhost:8080/"
        }
      },
      "outputs": [
        {
          "output_type": "stream",
          "name": "stdout",
          "text": [
            "{'s': 1, 'h': 2, 'a': 2, 'r': 1, 'u': 1, 'k': 2, ' ': 1, 'n': 1}\n"
          ]
        }
      ],
      "source": [
        "from pathlib import PureWindowsPath\n",
        "# Please write The solution Here for above question 9:\n",
        "a='sharuk khan'\n",
        "f={}\n",
        "for i in a:\n",
        "  if i not in f:\n",
        "    f[i]=1\n",
        "  else:\n",
        "    f[i]=f[i]+1\n",
        "print(f)\n",
        "\n",
        "\n"
      ]
    },
    {
      "cell_type": "markdown",
      "id": "5c9a3f09",
      "metadata": {
        "id": "5c9a3f09"
      },
      "source": [
        "### Question 10: write a python programme to find the sum of all the even characters based on Ascii values\n",
        "\n",
        "- `sample input : `\n",
        "    - `var = 'sharuk khan'`\n",
        "- `sample output :`\n",
        "    - `result : 464`\n"
      ]
    },
    {
      "cell_type": "code",
      "execution_count": 91,
      "id": "57c0c30e",
      "metadata": {
        "id": "57c0c30e",
        "outputId": "882f53a9-0f03-446e-92b6-76ac1ad82160",
        "colab": {
          "base_uri": "https://localhost:8080/"
        }
      },
      "outputs": [
        {
          "output_type": "stream",
          "name": "stdout",
          "text": [
            "464\n"
          ]
        }
      ],
      "source": [
        "# Please write The solution Here for above question 10:\n",
        "a='sharuk khan'\n",
        "b=list(a)\n",
        "c=0\n",
        "for i in b:\n",
        "  d=ord(i)\n",
        "  if d%2==0:\n",
        "    c=c+d\n",
        "print(c)\n",
        "\n",
        "\n",
        "# saikamal9797@gmail.com"
      ]
    },
    {
      "cell_type": "code",
      "execution_count": null,
      "id": "0cb2936c",
      "metadata": {
        "id": "0cb2936c"
      },
      "outputs": [],
      "source": []
    }
  ],
  "metadata": {
    "kernelspec": {
      "display_name": "Python 3 (ipykernel)",
      "language": "python",
      "name": "python3"
    },
    "language_info": {
      "codemirror_mode": {
        "name": "ipython",
        "version": 3
      },
      "file_extension": ".py",
      "mimetype": "text/x-python",
      "name": "python",
      "nbconvert_exporter": "python",
      "pygments_lexer": "ipython3",
      "version": "3.11.5"
    },
    "colab": {
      "provenance": []
    }
  },
  "nbformat": 4,
  "nbformat_minor": 5
}